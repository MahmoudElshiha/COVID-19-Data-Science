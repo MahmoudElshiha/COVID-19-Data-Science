{
 "cells": [
  {
   "cell_type": "markdown",
   "id": "a2ee406a",
   "metadata": {},
   "source": [
    "### COVID-19 DATA EDA"
   ]
  },
  {
   "cell_type": "code",
   "execution_count": 7,
   "id": "0c78d54a",
   "metadata": {},
   "outputs": [],
   "source": [
    "\n",
    "import pandas as pd\n",
    "import matplotlib.pyplot as plt\n",
    "import seaborn as sns\n",
    "import os"
   ]
  },
  {
   "cell_type": "markdown",
   "id": "d133b1e2",
   "metadata": {},
   "source": [
    "### Prepare Work Space\n"
   ]
  },
  {
   "cell_type": "code",
   "execution_count": null,
   "id": "e06d9314",
   "metadata": {},
   "outputs": [],
   "source": [
    "df = pd.read_csv('./Datasets/cleaned_covid_dataset.csv', low_memory=False)"
   ]
  },
  {
   "cell_type": "code",
   "execution_count": null,
   "id": "3ea0507b",
   "metadata": {},
   "outputs": [],
   "source": [
    "# Create 'Charts' directory if it doesn't exist\n",
    "if not os.path.exists('Charts'):\n",
    "    os.makedirs('Charts')\n"
   ]
  },
  {
   "cell_type": "code",
   "execution_count": null,
   "id": "caba5c4f",
   "metadata": {},
   "outputs": [],
   "source": [
    "# helper functions\n",
    "def save_plot(fig, filename):\n",
    "    fig.savefig(f'Charts/{filename}.png', bbox_inches='tight')\n",
    "    plt.close(fig)\n"
   ]
  },
  {
   "cell_type": "markdown",
   "id": "3d3466f9",
   "metadata": {},
   "source": [
    "### Preprocessing"
   ]
  },
  {
   "cell_type": "code",
   "execution_count": 11,
   "id": "387bc1d4",
   "metadata": {},
   "outputs": [],
   "source": [
    "# Map Sex column (1=Male, 2=Female)\n",
    "df['Sex'] = df['Sex'].map({1: 'Male', 2: 'Female'})\n",
    "\n",
    "\n",
    "# Create 'Age_Group' column\n",
    "bins = [0, 20, 40, 60, 80, 120]\n",
    "labels = ['0-20', '21-40', '41-60', '61-80', '81+']\n",
    "df['Age_Group'] = pd.cut(df['Age'], bins=bins, labels=labels)\n",
    "\n",
    "\n",
    "# Create 'Total_Comorbidities' column\n",
    "comorbidities = ['Diabetes', 'COPD', 'Asthma', 'Immunosuppressed', 'Hypertension',\n",
    "                 'Other_Disease', 'Cardiovascular_Disease', 'Obesity', 'Chronic_Renal_Disease']\n",
    "df['Total_Comorbidities'] = df[comorbidities].sum(axis=1)\n"
   ]
  },
  {
   "cell_type": "markdown",
   "id": "2ea836cb",
   "metadata": {},
   "source": [
    "### Genereate summary Charts\n"
   ]
  },
  {
   "cell_type": "code",
   "execution_count": null,
   "id": "784f23e2",
   "metadata": {},
   "outputs": [],
   "source": [
    "#1 Age Distribution\n",
    "fig, ax = plt.subplots(figsize=(8, 6))\n",
    "sns.histplot(df['Age'], bins=30, kde=True, ax=ax)\n",
    "ax.set_title('Age Distribution')\n",
    "ax.set_xlabel('Age')\n",
    "ax.set_ylabel('Frequency')\n",
    "save_plot(fig, 'age_distribution')\n",
    "\n",
    "#2 Death Ratio\n",
    "death_counts = df['is_dead'].value_counts()\n",
    "fig, ax = plt.subplots(figsize=(6, 6))\n",
    "ax.pie(death_counts, labels=['Alive', 'is_dead'], autopct='%1.1f%%', colors=['green', 'red'])\n",
    "ax.set_title('Death Ratio')\n",
    "save_plot(fig, 'death_ratio')\n",
    "\n",
    "#3 Comorbidities vs Death\n",
    "fig = plt.figure(figsize=(14, 10))\n",
    "for i, comorbidity in enumerate(comorbidities):\n",
    "    plt.subplot(3, 3, i + 1)\n",
    "    sns.countplot(x=comorbidity, hue='is_dead', data=df, palette='Set2')\n",
    "    plt.title(f'{comorbidity} vs Death')\n",
    "    plt.xlabel('Has Condition (1=Yes, 0=No)')\n",
    "plt.tight_layout()\n",
    "save_plot(fig, 'comorbidities_vs_death')\n",
    "\n",
    "#4 Sex vs Death\n",
    "fig, ax = plt.subplots(figsize=(8, 6))\n",
    "sns.countplot(x='Sex', hue='is_dead', data=df, palette='Set1', ax=ax)\n",
    "ax.set_title('Sex vs Death')\n",
    "ax.set_xlabel('Sex')\n",
    "ax.set_ylabel('Count')\n",
    "save_plot(fig, 'sex_vs_death')\n",
    "\n",
    "#5 Treatment Level vs Death\n",
    "fig, ax = plt.subplots(figsize=(8, 6))\n",
    "sns.countplot(x='Treatment_Level', hue='is_dead', data=df, palette='coolwarm', ax=ax)\n",
    "ax.set_title('Treatment Level vs Death')\n",
    "ax.set_xlabel('Treatment Level')\n",
    "save_plot(fig, 'treatment_level_vs_death')\n",
    "\n",
    "#6 Medical Unit Type vs Death\n",
    "fig, ax = plt.subplots(figsize=(10, 6))\n",
    "sns.countplot(x='Medical_Unit_Type', hue='is_dead', data=df, palette='Spectral', ax=ax)\n",
    "ax.set_title('Medical Unit Type vs Death')\n",
    "ax.set_xlabel('Medical Unit Type')\n",
    "save_plot(fig, 'medical_unit_vs_death')\n",
    "\n",
    "#7 Tobacco Use vs Death\n",
    "fig, ax = plt.subplots(figsize=(8, 6))\n",
    "sns.countplot(x='Tobacco_Use', hue='is_dead', data=df, palette='Set2', ax=ax)\n",
    "ax.set_title('Tobacco Use vs Death')\n",
    "ax.set_xlabel('Tobacco Use')\n",
    "save_plot(fig, 'tobacco_use_vs_death')\n",
    "\n",
    "#8 Comorbidity Correlation Heatmap\n",
    "fig, ax = plt.subplots(figsize=(12, 10))\n",
    "sns.heatmap(df[comorbidities].corr(), annot=True, cmap='YlGnBu')\n",
    "ax.set_title('Correlation Between Comorbidities')\n",
    "save_plot(fig, 'comorbidity_correlation')\n",
    "\n",
    "#9 Age Group vs Death\n",
    "fig, ax = plt.subplots(figsize=(8, 6))\n",
    "sns.countplot(x='Age_Group', hue='is_dead', data=df, palette='Paired', ax=ax)\n",
    "ax.set_title('Age Group vs Death')\n",
    "ax.set_xlabel('Age Group')\n",
    "save_plot(fig, 'age_group_vs_death')\n",
    "\n",
    "#10 Total Comorbidities vs Death\n",
    "fig, ax = plt.subplots(figsize=(8, 6))\n",
    "sns.histplot(data=df, x='Total_Comorbidities', hue='is_dead', multiple='stack', palette='cool')\n",
    "ax.set_title('Total Comorbidities vs Death')\n",
    "ax.set_xlabel('Number of Comorbidities')\n",
    "save_plot(fig, 'total_comorbidities_vs_death')"
   ]
  },
  {
   "cell_type": "markdown",
   "id": "b8834da7",
   "metadata": {},
   "source": [
    "### End Of EDA"
   ]
  }
 ],
 "metadata": {
  "kernelspec": {
   "display_name": "Python 3",
   "language": "python",
   "name": "python3"
  },
  "language_info": {
   "codemirror_mode": {
    "name": "ipython",
    "version": 3
   },
   "file_extension": ".py",
   "mimetype": "text/x-python",
   "name": "python",
   "nbconvert_exporter": "python",
   "pygments_lexer": "ipython3",
   "version": "3.11.4"
  }
 },
 "nbformat": 4,
 "nbformat_minor": 5
}
